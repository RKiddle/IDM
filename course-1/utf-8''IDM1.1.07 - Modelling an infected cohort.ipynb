{
 "cells": [
  {
   "cell_type": "markdown",
   "metadata": {},
   "source": [
    "# Etivity 1.1.1: Modelling an infected cohort"
   ]
  },
  {
   "cell_type": "markdown",
   "metadata": {},
   "source": [
    "In this etivity, you will code your first simple model and use it to answer a research question. To get used to the format for models in R, we'll start by giving you some parts of the code, and you need to fill in the missing numbers or code blocks by replacing the *#YOUR CODE#* placeholders. At the end of each etivity, we'll provide a solution file that contains the full code, annotated with comments. Make sure you understand each line, and soon you'll be able to write your own model from scratch!\n",
    "\n",
    "Your task is to find out how long it takes for\n",
    "a cohort of infected people to recover. As you saw in the video,\n",
    "to answer this question you need to keep track of 2 populations: \n",
    "those that are infected (compartment I), and those that have recovered (compartment R). \n",
    "Infected people recover at a rate *gamma*. The differential equations describing this are:\n",
    "\n",
    "\\begin{align}\n",
    "\\frac{dI}{dt} & = -\\gamma I \\\\\n",
    "\\frac{dR}{dt} & = \\gamma I\n",
    "\\end{align}"
   ]
  },
  {
   "cell_type": "markdown",
   "metadata": {},
   "source": [
    "Load the packages which you need for this etivity, by running the following cell:"
   ]
  },
  {
   "cell_type": "code",
   "execution_count": 8,
   "metadata": {},
   "outputs": [],
   "source": [
    "library(deSolve)   # package to solve the model\n",
    "library(reshape2)  # package to change the shape of the model output\n",
    "library(ggplot2)   # package for plotting"
   ]
  },
  {
   "cell_type": "markdown",
   "metadata": {},
   "source": [
    "To start, it is useful to code what we know about the situation we want to model.\n",
    "We are looking at a cohort of 10$^6$ currently infected people, and no one has recovered so far. The average duration of infection is 10 days. The question we want to answer is how many people will recover from the infection over a 4-week period.\n",
    "\n",
    "Given this data, fill in the correct values to the following variables, and run the cell:"
   ]
  },
  {
   "cell_type": "code",
   "execution_count": 9,
   "metadata": {},
   "outputs": [],
   "source": [
    "initial_number_infected <- 1000000  # the initial infected population size\n",
    "initial_number_recovered <- 0#YOUR CODE#  # the initial number of people in the recovered state\n",
    "recovery_rate <- 0.1            # the rate of recovery gamma, in units of days^-1\n",
    "follow_up_duration <- 4*7 #YOUR CODE#        # the duration to run the model for, in units of days\n",
    "  \n",
    "# Hint: the units of the recovery rate and the follow-up duration should be consistent."
   ]
  },
  {
   "cell_type": "markdown",
   "metadata": {},
   "source": [
    "Now, we combine this data into objects that are recognised by the deSolve package as **model input**. To do this, again run the code below."
   ]
  },
  {
   "cell_type": "code",
   "execution_count": 10,
   "metadata": {},
   "outputs": [],
   "source": [
    "# The initial state values are stored as a vector and each value is assigned a name.\n",
    "initial_state_values <- c(I = initial_number_infected, \n",
    "                          R = initial_number_recovered)\n",
    "\n",
    "# Parameters are also stored as a vector with assigned names and values. \n",
    "parameters <- c(gamma = recovery_rate)  \n",
    "# In this case we only have one parameter, gamma."
   ]
  },
  {
   "cell_type": "markdown",
   "metadata": {},
   "source": [
    "Think about: what kind of information is stored in the *initial_state_values* and *parameters* vectors?\n",
    "\n",
    "Additionally, we need to specify the time we want the model to run for. This depends on the question we want to answer. In the cell below, the duration you specified earlier is automatically filled in when you run it."
   ]
  },
  {
   "cell_type": "code",
   "execution_count": 11,
   "metadata": {},
   "outputs": [],
   "source": [
    "# The times vector creates a sequence of timepoints at which we want to calculate the number of people \n",
    "# in the I and R compartment.\n",
    "times <- seq(from = 0, to = follow_up_duration, by = 1) "
   ]
  },
  {
   "cell_type": "markdown",
   "metadata": {},
   "source": [
    "Think about: what kind of information is stored in the *times* vector?\n",
    "\n",
    "Check your answers by having a look at each of these vectors to familiarise yourself with the structure: in the following code cell we have typed the object names, so you just need to press \"Run\" to see what each of them contains."
   ]
  },
  {
   "cell_type": "code",
   "execution_count": 12,
   "metadata": {},
   "outputs": [
    {
     "data": {
      "text/html": [
       "<dl class=dl-horizontal>\n",
       "\t<dt>I</dt>\n",
       "\t\t<dd>1e+06</dd>\n",
       "\t<dt>R</dt>\n",
       "\t\t<dd>0</dd>\n",
       "</dl>\n"
      ],
      "text/latex": [
       "\\begin{description*}\n",
       "\\item[I] 1e+06\n",
       "\\item[R] 0\n",
       "\\end{description*}\n"
      ],
      "text/markdown": [
       "I\n",
       ":   1e+06R\n",
       ":   0\n",
       "\n"
      ],
      "text/plain": [
       "    I     R \n",
       "1e+06 0e+00 "
      ]
     },
     "metadata": {},
     "output_type": "display_data"
    },
    {
     "data": {
      "text/html": [
       "<strong>gamma:</strong> 0.1"
      ],
      "text/latex": [
       "\\textbf{gamma:} 0.1"
      ],
      "text/markdown": [
       "**gamma:** 0.1"
      ],
      "text/plain": [
       "gamma \n",
       "  0.1 "
      ]
     },
     "metadata": {},
     "output_type": "display_data"
    },
    {
     "data": {
      "text/html": [
       "<ol class=list-inline>\n",
       "\t<li>0</li>\n",
       "\t<li>1</li>\n",
       "\t<li>2</li>\n",
       "\t<li>3</li>\n",
       "\t<li>4</li>\n",
       "\t<li>5</li>\n",
       "\t<li>6</li>\n",
       "\t<li>7</li>\n",
       "\t<li>8</li>\n",
       "\t<li>9</li>\n",
       "\t<li>10</li>\n",
       "\t<li>11</li>\n",
       "\t<li>12</li>\n",
       "\t<li>13</li>\n",
       "\t<li>14</li>\n",
       "\t<li>15</li>\n",
       "\t<li>16</li>\n",
       "\t<li>17</li>\n",
       "\t<li>18</li>\n",
       "\t<li>19</li>\n",
       "\t<li>20</li>\n",
       "\t<li>21</li>\n",
       "\t<li>22</li>\n",
       "\t<li>23</li>\n",
       "\t<li>24</li>\n",
       "\t<li>25</li>\n",
       "\t<li>26</li>\n",
       "\t<li>27</li>\n",
       "\t<li>28</li>\n",
       "</ol>\n"
      ],
      "text/latex": [
       "\\begin{enumerate*}\n",
       "\\item 0\n",
       "\\item 1\n",
       "\\item 2\n",
       "\\item 3\n",
       "\\item 4\n",
       "\\item 5\n",
       "\\item 6\n",
       "\\item 7\n",
       "\\item 8\n",
       "\\item 9\n",
       "\\item 10\n",
       "\\item 11\n",
       "\\item 12\n",
       "\\item 13\n",
       "\\item 14\n",
       "\\item 15\n",
       "\\item 16\n",
       "\\item 17\n",
       "\\item 18\n",
       "\\item 19\n",
       "\\item 20\n",
       "\\item 21\n",
       "\\item 22\n",
       "\\item 23\n",
       "\\item 24\n",
       "\\item 25\n",
       "\\item 26\n",
       "\\item 27\n",
       "\\item 28\n",
       "\\end{enumerate*}\n"
      ],
      "text/markdown": [
       "1. 0\n",
       "2. 1\n",
       "3. 2\n",
       "4. 3\n",
       "5. 4\n",
       "6. 5\n",
       "7. 6\n",
       "8. 7\n",
       "9. 8\n",
       "10. 9\n",
       "11. 10\n",
       "12. 11\n",
       "13. 12\n",
       "14. 13\n",
       "15. 14\n",
       "16. 15\n",
       "17. 16\n",
       "18. 17\n",
       "19. 18\n",
       "20. 19\n",
       "21. 20\n",
       "22. 21\n",
       "23. 22\n",
       "24. 23\n",
       "25. 24\n",
       "26. 25\n",
       "27. 26\n",
       "28. 27\n",
       "29. 28\n",
       "\n",
       "\n"
      ],
      "text/plain": [
       " [1]  0  1  2  3  4  5  6  7  8  9 10 11 12 13 14 15 16 17 18 19 20 21 22 23 24\n",
       "[26] 25 26 27 28"
      ]
     },
     "metadata": {},
     "output_type": "display_data"
    }
   ],
   "source": [
    "initial_state_values\n",
    "parameters\n",
    "times"
   ]
  },
  {
   "cell_type": "markdown",
   "metadata": {},
   "source": [
    "The next step is specifying the model. Using the example code in the introductory document, complete the following model function with the differential equations above."
   ]
  },
  {
   "cell_type": "code",
   "execution_count": 29,
   "metadata": {},
   "outputs": [],
   "source": [
    "cohort_model <- function(time, state, parameters) { \n",
    "  \n",
    "    with(as.list(c(state, parameters)), {\n",
    "      \n",
    "      dI <- -gamma*I\n",
    "      dR <- gamma*I\n",
    "      \n",
    "      return(list(c(dI, dR)))\n",
    "    })\n",
    "  \n",
    "}"
   ]
  },
  {
   "cell_type": "markdown",
   "metadata": {},
   "source": [
    "Now all there's left to do is solving this set of equations using the deSolve package. Fill in the following command, which calculates and stores the number of infected and recovered people at each timestep in the \"output\" dataframe. Don't forget to run it!"
   ]
  },
  {
   "cell_type": "code",
   "execution_count": 30,
   "metadata": {},
   "outputs": [],
   "source": [
    "# Hint: if you can't remember what those arguments correspond to, just look up the ode help file:\n",
    "??ode"
   ]
  },
  {
   "cell_type": "code",
   "execution_count": 31,
   "metadata": {},
   "outputs": [],
   "source": [
    "output <- as.data.frame(ode(y = initial_state_values, \n",
    "                            times = times, \n",
    "                            func = cohort_model,\n",
    "                            parms = parameters))"
   ]
  },
  {
   "cell_type": "markdown",
   "metadata": {},
   "source": [
    "Printing the **model output** returns a dataframe with columns time (containing our times vector), I (containing the number of infected people at each timestep) and R (containing the number of recovered people at each timestep):"
   ]
  },
  {
   "cell_type": "code",
   "execution_count": 32,
   "metadata": {},
   "outputs": [
    {
     "data": {
      "text/html": [
       "<table>\n",
       "<thead><tr><th scope=col>time</th><th scope=col>I</th><th scope=col>R</th></tr></thead>\n",
       "<tbody>\n",
       "\t<tr><td> 0          </td><td>1.000000e+06</td><td>      0.0   </td></tr>\n",
       "\t<tr><td> 1          </td><td>3.678794e+05</td><td> 632120.6   </td></tr>\n",
       "\t<tr><td> 2          </td><td>1.353351e+05</td><td> 864664.9   </td></tr>\n",
       "\t<tr><td> 3          </td><td>4.978697e+04</td><td> 950213.0   </td></tr>\n",
       "\t<tr><td> 4          </td><td>1.831559e+04</td><td> 981684.4   </td></tr>\n",
       "\t<tr><td> 5          </td><td>6.737923e+03</td><td> 993262.1   </td></tr>\n",
       "\t<tr><td> 6          </td><td>2.478741e+03</td><td> 997521.3   </td></tr>\n",
       "\t<tr><td> 7          </td><td>9.118772e+02</td><td> 999088.1   </td></tr>\n",
       "\t<tr><td> 8          </td><td>3.354606e+02</td><td> 999664.5   </td></tr>\n",
       "\t<tr><td> 9          </td><td>1.234090e+02</td><td> 999876.6   </td></tr>\n",
       "\t<tr><td>10          </td><td>4.539958e+01</td><td> 999954.6   </td></tr>\n",
       "\t<tr><td>11          </td><td>1.670156e+01</td><td> 999983.3   </td></tr>\n",
       "\t<tr><td>12          </td><td>6.144155e+00</td><td> 999993.9   </td></tr>\n",
       "\t<tr><td>13          </td><td>2.260306e+00</td><td> 999997.7   </td></tr>\n",
       "\t<tr><td>14          </td><td>8.315196e-01</td><td> 999999.2   </td></tr>\n",
       "\t<tr><td>15          </td><td>3.058986e-01</td><td> 999999.7   </td></tr>\n",
       "\t<tr><td>16          </td><td>1.125336e-01</td><td> 999999.9   </td></tr>\n",
       "\t<tr><td>17          </td><td>4.139872e-02</td><td>1000000.0   </td></tr>\n",
       "\t<tr><td>18          </td><td>1.522972e-02</td><td>1000000.0   </td></tr>\n",
       "\t<tr><td>19          </td><td>5.602676e-03</td><td>1000000.0   </td></tr>\n",
       "\t<tr><td>20          </td><td>2.061173e-03</td><td>1000000.0   </td></tr>\n",
       "\t<tr><td>21          </td><td>7.582818e-04</td><td>1000000.0   </td></tr>\n",
       "\t<tr><td>22          </td><td>2.789371e-04</td><td>1000000.0   </td></tr>\n",
       "\t<tr><td>23          </td><td>1.026131e-04</td><td>1000000.0   </td></tr>\n",
       "\t<tr><td>24          </td><td>3.773270e-05</td><td>1000000.0   </td></tr>\n",
       "\t<tr><td>25          </td><td>1.391230e-05</td><td>1000000.0   </td></tr>\n",
       "\t<tr><td>26          </td><td>5.151106e-06</td><td>1000000.0   </td></tr>\n",
       "\t<tr><td>27          </td><td>1.851387e-06</td><td>1000000.0   </td></tr>\n",
       "\t<tr><td>28          </td><td>6.704086e-07</td><td>1000000.0   </td></tr>\n",
       "</tbody>\n",
       "</table>\n"
      ],
      "text/latex": [
       "\\begin{tabular}{r|lll}\n",
       " time & I & R\\\\\n",
       "\\hline\n",
       "\t  0           & 1.000000e+06 &       0.0   \\\\\n",
       "\t  1           & 3.678794e+05 &  632120.6   \\\\\n",
       "\t  2           & 1.353351e+05 &  864664.9   \\\\\n",
       "\t  3           & 4.978697e+04 &  950213.0   \\\\\n",
       "\t  4           & 1.831559e+04 &  981684.4   \\\\\n",
       "\t  5           & 6.737923e+03 &  993262.1   \\\\\n",
       "\t  6           & 2.478741e+03 &  997521.3   \\\\\n",
       "\t  7           & 9.118772e+02 &  999088.1   \\\\\n",
       "\t  8           & 3.354606e+02 &  999664.5   \\\\\n",
       "\t  9           & 1.234090e+02 &  999876.6   \\\\\n",
       "\t 10           & 4.539958e+01 &  999954.6   \\\\\n",
       "\t 11           & 1.670156e+01 &  999983.3   \\\\\n",
       "\t 12           & 6.144155e+00 &  999993.9   \\\\\n",
       "\t 13           & 2.260306e+00 &  999997.7   \\\\\n",
       "\t 14           & 8.315196e-01 &  999999.2   \\\\\n",
       "\t 15           & 3.058986e-01 &  999999.7   \\\\\n",
       "\t 16           & 1.125336e-01 &  999999.9   \\\\\n",
       "\t 17           & 4.139872e-02 & 1000000.0   \\\\\n",
       "\t 18           & 1.522972e-02 & 1000000.0   \\\\\n",
       "\t 19           & 5.602676e-03 & 1000000.0   \\\\\n",
       "\t 20           & 2.061173e-03 & 1000000.0   \\\\\n",
       "\t 21           & 7.582818e-04 & 1000000.0   \\\\\n",
       "\t 22           & 2.789371e-04 & 1000000.0   \\\\\n",
       "\t 23           & 1.026131e-04 & 1000000.0   \\\\\n",
       "\t 24           & 3.773270e-05 & 1000000.0   \\\\\n",
       "\t 25           & 1.391230e-05 & 1000000.0   \\\\\n",
       "\t 26           & 5.151106e-06 & 1000000.0   \\\\\n",
       "\t 27           & 1.851387e-06 & 1000000.0   \\\\\n",
       "\t 28           & 6.704086e-07 & 1000000.0   \\\\\n",
       "\\end{tabular}\n"
      ],
      "text/markdown": [
       "\n",
       "| time | I | R |\n",
       "|---|---|---|\n",
       "|  0           | 1.000000e+06 |       0.0    |\n",
       "|  1           | 3.678794e+05 |  632120.6    |\n",
       "|  2           | 1.353351e+05 |  864664.9    |\n",
       "|  3           | 4.978697e+04 |  950213.0    |\n",
       "|  4           | 1.831559e+04 |  981684.4    |\n",
       "|  5           | 6.737923e+03 |  993262.1    |\n",
       "|  6           | 2.478741e+03 |  997521.3    |\n",
       "|  7           | 9.118772e+02 |  999088.1    |\n",
       "|  8           | 3.354606e+02 |  999664.5    |\n",
       "|  9           | 1.234090e+02 |  999876.6    |\n",
       "| 10           | 4.539958e+01 |  999954.6    |\n",
       "| 11           | 1.670156e+01 |  999983.3    |\n",
       "| 12           | 6.144155e+00 |  999993.9    |\n",
       "| 13           | 2.260306e+00 |  999997.7    |\n",
       "| 14           | 8.315196e-01 |  999999.2    |\n",
       "| 15           | 3.058986e-01 |  999999.7    |\n",
       "| 16           | 1.125336e-01 |  999999.9    |\n",
       "| 17           | 4.139872e-02 | 1000000.0    |\n",
       "| 18           | 1.522972e-02 | 1000000.0    |\n",
       "| 19           | 5.602676e-03 | 1000000.0    |\n",
       "| 20           | 2.061173e-03 | 1000000.0    |\n",
       "| 21           | 7.582818e-04 | 1000000.0    |\n",
       "| 22           | 2.789371e-04 | 1000000.0    |\n",
       "| 23           | 1.026131e-04 | 1000000.0    |\n",
       "| 24           | 3.773270e-05 | 1000000.0    |\n",
       "| 25           | 1.391230e-05 | 1000000.0    |\n",
       "| 26           | 5.151106e-06 | 1000000.0    |\n",
       "| 27           | 1.851387e-06 | 1000000.0    |\n",
       "| 28           | 6.704086e-07 | 1000000.0    |\n",
       "\n"
      ],
      "text/plain": [
       "   time I            R        \n",
       "1   0   1.000000e+06       0.0\n",
       "2   1   3.678794e+05  632120.6\n",
       "3   2   1.353351e+05  864664.9\n",
       "4   3   4.978697e+04  950213.0\n",
       "5   4   1.831559e+04  981684.4\n",
       "6   5   6.737923e+03  993262.1\n",
       "7   6   2.478741e+03  997521.3\n",
       "8   7   9.118772e+02  999088.1\n",
       "9   8   3.354606e+02  999664.5\n",
       "10  9   1.234090e+02  999876.6\n",
       "11 10   4.539958e+01  999954.6\n",
       "12 11   1.670156e+01  999983.3\n",
       "13 12   6.144155e+00  999993.9\n",
       "14 13   2.260306e+00  999997.7\n",
       "15 14   8.315196e-01  999999.2\n",
       "16 15   3.058986e-01  999999.7\n",
       "17 16   1.125336e-01  999999.9\n",
       "18 17   4.139872e-02 1000000.0\n",
       "19 18   1.522972e-02 1000000.0\n",
       "20 19   5.602676e-03 1000000.0\n",
       "21 20   2.061173e-03 1000000.0\n",
       "22 21   7.582818e-04 1000000.0\n",
       "23 22   2.789371e-04 1000000.0\n",
       "24 23   1.026131e-04 1000000.0\n",
       "25 24   3.773270e-05 1000000.0\n",
       "26 25   1.391230e-05 1000000.0\n",
       "27 26   5.151106e-06 1000000.0\n",
       "28 27   1.851387e-06 1000000.0\n",
       "29 28   6.704086e-07 1000000.0"
      ]
     },
     "metadata": {},
     "output_type": "display_data"
    }
   ],
   "source": [
    "output"
   ]
  },
  {
   "cell_type": "markdown",
   "metadata": {},
   "source": [
    "### Question: Based on the output, how many people have recovered after 4 weeks? What proportion of the total population does this correspond to?\n",
    "\n",
    "Now, plot your model output in the following cell, with time on the x axis and the number of infected and recovered people on the y axis.  You can use the introductory document for help with this."
   ]
  },
  {
   "cell_type": "code",
   "execution_count": 33,
   "metadata": {
    "scrolled": true
   },
   "outputs": [
    {
     "data": {
      "image/png": "[encoded data removed]",
      "text/plain": [
       "plot without title"
      ]
     },
     "metadata": {},
     "output_type": "display_data"
    }
   ],
   "source": [
    "# First turn the output dataset into a long format, so that the number in each compartment at each timestep\n",
    "# are all in the same column\n",
    "output_long <- melt(as.data.frame(output), id = \"time\")                  \n",
    "\n",
    "# Plot the number of people in each compartment over time\n",
    "ggplot(data = output_long,                                               # specify object containing data to plot\n",
    "        aes(x = time, y = value, colour = variable, group = variable))+  \n",
    "       # in the long-format output dataset, the number in each compartment is in the \"value\" column and the \n",
    "       # compartment the number relates to is in the \"variable\" column. We are telling ggplot to assign a different \n",
    "       # colour to each compartment/group, which automatically generates a legend\n",
    "  geom_line() +                                                          \n",
    "       # we want to represent the data over time as lines. This command automatically looks to the specifications saved\n",
    "       # in the ggplot command above to know which data to plot\n",
    "  xlab(\"Time (days)\")+                                                   # add label for x axis\n",
    "  ylab(\"Number of people\") +                                             # add label for y axis\n",
    "  labs(title = paste(\"Number infected and recovered over time when gamma =\",parameters[\"gamma\"],\"days^-1\")) # add title\n",
    "# Using the paste() command, we can combine sentences with the values stored in variables (here gamma)"
   ]
  },
  {
   "cell_type": "markdown",
   "metadata": {},
   "source": [
    "### Question: Based on the plot, at what timepoint were infected and recovered individuals equal in number?\n",
    "\n",
    "For the last part of the etivity, try varying *gamma* to see how it affects the output. For example, in the cell below change *gamma* to correspond to an average infectious period of 2 days and 20 days. What is the recovery rate in these 2 cases?\n",
    "\n",
    "7 days"
   ]
  },
  {
   "cell_type": "code",
   "execution_count": 34,
   "metadata": {},
   "outputs": [
    {
     "data": {
      "image/png": "[encoded data removed]",
      "text/plain": [
       "plot without title"
      ]
     },
     "metadata": {},
     "output_type": "display_data"
    }
   ],
   "source": [
    "parameters <- c(gamma = 1.0)\n",
    "output <- as.data.frame(ode(y = initial_state_values, \n",
    "                            times = times, \n",
    "                            func = cohort_model,\n",
    "                            parms = parameters))\n",
    "\n",
    "output_long <- melt(as.data.frame(output), id = \"time\")                  # turn output dataset into long format\n",
    "\n",
    "ggplot(data = output_long,                                               # specify object containing data to plot\n",
    "       aes(x = time, y = value, colour = variable, group = variable)) +  # assign columns to axes and groups\n",
    "  geom_line() +                                                          # represent data as lines\n",
    "  xlab(\"Time (days)\")+                                                   # add label for x axis\n",
    "  ylab(\"Number of people\") +                                             # add label for y axis\n",
    "  labs(title = paste(\"Number infected and recovered over time when gamma =\",parameters[\"gamma\"],\"days^-1\")) # add title              \n",
    "# Since the initial number in each compartment and the timesteps of interest haven't changed, \n",
    "# these are the only parts of the code we need to rerun.\n",
    "\n",
    "# Now, copy-paste your plot code from above here to visualise the output."
   ]
  },
  {
   "cell_type": "markdown",
   "metadata": {},
   "source": [
    "### Question: What changes do you observe in the transition to the recovered compartment if *gamma* is higher or lower? For example, how long does it take for everyone to recover in both cases?\n",
    "\n",
    "higher gamma, faster recovery time\n",
    "\n",
    "## Well done on writing your first model code. Now, check the solutions!\n",
    "Once you are done with an etivity, you can open the \"Solutions to etivities\" folder in your Jupyter workspace. In this folder, you will find feedback and model code for all the coding etivities throughout the course. After completing an exercise, you should always carefully compare your answers and code with the solutions! It is especially important to get the coding right from the start, because we are building on the same modelling framework throughout the course. Additionally, the solution files sometimes contain further information that will help you deepen your understanding of the lesson.  \n",
    "To make the most of the learning experience, we always recommend trying to complete the whole etivity before checking the solutions - but if you are stuck at any point, they can also help you to move on to the next part."
   ]
  },
  {
   "cell_type": "code",
   "execution_count": null,
   "metadata": {},
   "outputs": [],
   "source": []
  }
 ],
 "metadata": {
  "kernelspec": {
   "display_name": "R",
   "language": "R",
   "name": "ir"
  }
 },
 "nbformat": 4,
 "nbformat_minor": 2
}
